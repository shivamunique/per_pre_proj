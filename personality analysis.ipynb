{
 "cells": [
  {
   "cell_type": "code",
   "execution_count": 1,
   "metadata": {},
   "outputs": [],
   "source": [
    "from sklearn.externals import joblib"
   ]
  },
  {
   "cell_type": "code",
   "execution_count": 2,
   "metadata": {},
   "outputs": [],
   "source": [
    "from skimage.feature import hog"
   ]
  },
  {
   "cell_type": "code",
   "execution_count": 3,
   "metadata": {},
   "outputs": [],
   "source": [
    "\n",
    "from sklearn import svm\n",
    "from sklearn import model_selection"
   ]
  },
  {
   "cell_type": "code",
   "execution_count": 4,
   "metadata": {},
   "outputs": [],
   "source": [
    "from sklearn import preprocessing"
   ]
  },
  {
   "cell_type": "code",
   "execution_count": 5,
   "metadata": {},
   "outputs": [],
   "source": [
    "import numpy as np\n",
    "#from collections import Counter"
   ]
  },
  {
   "cell_type": "code",
   "execution_count": 6,
   "metadata": {},
   "outputs": [],
   "source": [
    "import matplotlib.pyplot as plt"
   ]
  },
  {
   "cell_type": "code",
   "execution_count": 7,
   "metadata": {},
   "outputs": [],
   "source": [
    "import cv2"
   ]
  },
  {
   "cell_type": "code",
   "execution_count": 8,
   "metadata": {},
   "outputs": [],
   "source": [
    "import pandas as pd\n",
    "import glob\n",
    "from sklearn.metrics import accuracy_score,confusion_matrix"
   ]
  },
  {
   "cell_type": "code",
   "execution_count": 9,
   "metadata": {},
   "outputs": [],
   "source": [
    "df=pd.read_csv('/home/raj/Downloads/Labelbox.io_personality.csv')"
   ]
  },
  {
   "cell_type": "code",
   "execution_count": 11,
   "metadata": {},
   "outputs": [
    {
     "data": {
      "text/html": [
       "<div>\n",
       "<table border=\"1\" class=\"dataframe\">\n",
       "  <thead>\n",
       "    <tr style=\"text-align: right;\">\n",
       "      <th></th>\n",
       "      <th>ID</th>\n",
       "      <th>Labeled Data</th>\n",
       "      <th>Label</th>\n",
       "      <th>Created By</th>\n",
       "      <th>Project Name</th>\n",
       "      <th>Seconds to Label</th>\n",
       "      <th>External ID</th>\n",
       "    </tr>\n",
       "  </thead>\n",
       "  <tbody>\n",
       "    <tr>\n",
       "      <th>0</th>\n",
       "      <td>cjdvp9kbs5jhr0198bgqfnhaj</td>\n",
       "      <td>https://firebasestorage.googleapis.com/v0/b/la...</td>\n",
       "      <td>Energetic Trait</td>\n",
       "      <td>Happy Singh</td>\n",
       "      <td>personality Analysis</td>\n",
       "      <td>28.388</td>\n",
       "      <td>1en.jpg</td>\n",
       "    </tr>\n",
       "    <tr>\n",
       "      <th>1</th>\n",
       "      <td>cjdvp9ut17jhr01693k4nbus5</td>\n",
       "      <td>https://firebasestorage.googleapis.com/v0/b/la...</td>\n",
       "      <td>Energetic Trait</td>\n",
       "      <td>Happy Singh</td>\n",
       "      <td>personality Analysis</td>\n",
       "      <td>11.163</td>\n",
       "      <td>2en.jpg</td>\n",
       "    </tr>\n",
       "    <tr>\n",
       "      <th>2</th>\n",
       "      <td>cjdvpa3pw4nfk0120c5iahx4h</td>\n",
       "      <td>https://firebasestorage.googleapis.com/v0/b/la...</td>\n",
       "      <td>Energetic Trait</td>\n",
       "      <td>Happy Singh</td>\n",
       "      <td>personality Analysis</td>\n",
       "      <td>8.871</td>\n",
       "      <td>3en.jpg</td>\n",
       "    </tr>\n",
       "    <tr>\n",
       "      <th>3</th>\n",
       "      <td>cjdvpabrx7b4m0117sryd6n60</td>\n",
       "      <td>https://firebasestorage.googleapis.com/v0/b/la...</td>\n",
       "      <td>Energetic Trait</td>\n",
       "      <td>Happy Singh</td>\n",
       "      <td>personality Analysis</td>\n",
       "      <td>8.489</td>\n",
       "      <td>4en.jpg</td>\n",
       "    </tr>\n",
       "    <tr>\n",
       "      <th>4</th>\n",
       "      <td>cjdvpaingoq9t0194bvdhbe8l</td>\n",
       "      <td>https://firebasestorage.googleapis.com/v0/b/la...</td>\n",
       "      <td>Energetic Trait</td>\n",
       "      <td>Happy Singh</td>\n",
       "      <td>personality Analysis</td>\n",
       "      <td>6.141</td>\n",
       "      <td>5en.jpg</td>\n",
       "    </tr>\n",
       "    <tr>\n",
       "      <th>5</th>\n",
       "      <td>cjdvpapbijz7t0194zu51gupl</td>\n",
       "      <td>https://firebasestorage.googleapis.com/v0/b/la...</td>\n",
       "      <td>Energetic Trait</td>\n",
       "      <td>Happy Singh</td>\n",
       "      <td>personality Analysis</td>\n",
       "      <td>6.798</td>\n",
       "      <td>6en.jpg</td>\n",
       "    </tr>\n",
       "    <tr>\n",
       "      <th>6</th>\n",
       "      <td>cjdvpawmzgmug0177ix4lzo65</td>\n",
       "      <td>https://firebasestorage.googleapis.com/v0/b/la...</td>\n",
       "      <td>Energetic Trait</td>\n",
       "      <td>Happy Singh</td>\n",
       "      <td>personality Analysis</td>\n",
       "      <td>5.587</td>\n",
       "      <td>7en.jpg</td>\n",
       "    </tr>\n",
       "    <tr>\n",
       "      <th>7</th>\n",
       "      <td>cjdvpb2fsgmvt01772d66hn4s</td>\n",
       "      <td>https://firebasestorage.googleapis.com/v0/b/la...</td>\n",
       "      <td>Energetic Trait</td>\n",
       "      <td>Happy Singh</td>\n",
       "      <td>personality Analysis</td>\n",
       "      <td>5.668</td>\n",
       "      <td>8en.jpg</td>\n",
       "    </tr>\n",
       "    <tr>\n",
       "      <th>8</th>\n",
       "      <td>cjdvpb8n04j3v0116xg2ar6x7</td>\n",
       "      <td>https://firebasestorage.googleapis.com/v0/b/la...</td>\n",
       "      <td>Energetic Trait</td>\n",
       "      <td>Happy Singh</td>\n",
       "      <td>personality Analysis</td>\n",
       "      <td>6.228</td>\n",
       "      <td>9en.jpg</td>\n",
       "    </tr>\n",
       "    <tr>\n",
       "      <th>9</th>\n",
       "      <td>cjdvpbeio4nti0120tovhjtoz</td>\n",
       "      <td>https://firebasestorage.googleapis.com/v0/b/la...</td>\n",
       "      <td>Energetic Trait</td>\n",
       "      <td>Happy Singh</td>\n",
       "      <td>personality Analysis</td>\n",
       "      <td>5.780</td>\n",
       "      <td>10en.jpg</td>\n",
       "    </tr>\n",
       "    <tr>\n",
       "      <th>10</th>\n",
       "      <td>cjdvpbl1m5k0z01989ipgbmx7</td>\n",
       "      <td>https://firebasestorage.googleapis.com/v0/b/la...</td>\n",
       "      <td>Extrovert Trait</td>\n",
       "      <td>Happy Singh</td>\n",
       "      <td>personality Analysis</td>\n",
       "      <td>6.267</td>\n",
       "      <td>11ex.jpg</td>\n",
       "    </tr>\n",
       "    <tr>\n",
       "      <th>11</th>\n",
       "      <td>cjdvpbq7c4nxo01201c8g5jkk</td>\n",
       "      <td>https://firebasestorage.googleapis.com/v0/b/la...</td>\n",
       "      <td>Extrovert Trait</td>\n",
       "      <td>Happy Singh</td>\n",
       "      <td>personality Analysis</td>\n",
       "      <td>4.780</td>\n",
       "      <td>12ex.jpg</td>\n",
       "    </tr>\n",
       "    <tr>\n",
       "      <th>12</th>\n",
       "      <td>cjdvpbvfe7bjv0117z76kffte</td>\n",
       "      <td>https://firebasestorage.googleapis.com/v0/b/la...</td>\n",
       "      <td>Extrovert Trait</td>\n",
       "      <td>Happy Singh</td>\n",
       "      <td>personality Analysis</td>\n",
       "      <td>5.003</td>\n",
       "      <td>13ex.jpg</td>\n",
       "    </tr>\n",
       "    <tr>\n",
       "      <th>13</th>\n",
       "      <td>cjdvpc1bgoqou0194380oyzpa</td>\n",
       "      <td>https://firebasestorage.googleapis.com/v0/b/la...</td>\n",
       "      <td>Extrovert Trait</td>\n",
       "      <td>Happy Singh</td>\n",
       "      <td>personality Analysis</td>\n",
       "      <td>6.083</td>\n",
       "      <td>14ex.jpg</td>\n",
       "    </tr>\n",
       "    <tr>\n",
       "      <th>14</th>\n",
       "      <td>cjdvpc83o4o1v0120p3nc16fe</td>\n",
       "      <td>https://firebasestorage.googleapis.com/v0/b/la...</td>\n",
       "      <td>Extrovert Trait</td>\n",
       "      <td>Happy Singh</td>\n",
       "      <td>personality Analysis</td>\n",
       "      <td>7.237</td>\n",
       "      <td>15ex.jpg</td>\n",
       "    </tr>\n",
       "    <tr>\n",
       "      <th>15</th>\n",
       "      <td>cjdvpckz04ead0184t3ir41xt</td>\n",
       "      <td>https://firebasestorage.googleapis.com/v0/b/la...</td>\n",
       "      <td>Extrovert Trait</td>\n",
       "      <td>Happy Singh</td>\n",
       "      <td>personality Analysis</td>\n",
       "      <td>14.276</td>\n",
       "      <td>16ex.jpg</td>\n",
       "    </tr>\n",
       "    <tr>\n",
       "      <th>16</th>\n",
       "      <td>cjdvpcsl5gnhj0177qx3xu9q9</td>\n",
       "      <td>https://firebasestorage.googleapis.com/v0/b/la...</td>\n",
       "      <td>Extrovert Trait</td>\n",
       "      <td>Happy Singh</td>\n",
       "      <td>personality Analysis</td>\n",
       "      <td>7.575</td>\n",
       "      <td>17ex.jpg</td>\n",
       "    </tr>\n",
       "    <tr>\n",
       "      <th>17</th>\n",
       "      <td>cjdvpd2s64eox0184c3bb0nku</td>\n",
       "      <td>https://firebasestorage.googleapis.com/v0/b/la...</td>\n",
       "      <td>Extrovert Trait</td>\n",
       "      <td>Happy Singh</td>\n",
       "      <td>personality Analysis</td>\n",
       "      <td>9.847</td>\n",
       "      <td>18ex.jpg</td>\n",
       "    </tr>\n",
       "    <tr>\n",
       "      <th>18</th>\n",
       "      <td>cjdvpdhvuwst00170ag7gj68z</td>\n",
       "      <td>https://firebasestorage.googleapis.com/v0/b/la...</td>\n",
       "      <td>Extrovert Trait</td>\n",
       "      <td>Happy Singh</td>\n",
       "      <td>personality Analysis</td>\n",
       "      <td>17.604</td>\n",
       "      <td>19ex.jpg</td>\n",
       "    </tr>\n",
       "    <tr>\n",
       "      <th>19</th>\n",
       "      <td>cjdvpdq0vk0gx0194gwqfwfgv</td>\n",
       "      <td>https://firebasestorage.googleapis.com/v0/b/la...</td>\n",
       "      <td>Sloppy Trait</td>\n",
       "      <td>Happy Singh</td>\n",
       "      <td>personality Analysis</td>\n",
       "      <td>8.794</td>\n",
       "      <td>19L.jpg</td>\n",
       "    </tr>\n",
       "    <tr>\n",
       "      <th>20</th>\n",
       "      <td>cjdvpdx7l4f3q018476h02qtg</td>\n",
       "      <td>https://firebasestorage.googleapis.com/v0/b/la...</td>\n",
       "      <td>Extrovert Trait</td>\n",
       "      <td>Happy Singh</td>\n",
       "      <td>personality Analysis</td>\n",
       "      <td>7.354</td>\n",
       "      <td>21ex.jpg</td>\n",
       "    </tr>\n",
       "    <tr>\n",
       "      <th>21</th>\n",
       "      <td>cjdvpe4837l3m0169sdh7wb3j</td>\n",
       "      <td>https://firebasestorage.googleapis.com/v0/b/la...</td>\n",
       "      <td>Extrovert Trait</td>\n",
       "      <td>Happy Singh</td>\n",
       "      <td>personality Analysis</td>\n",
       "      <td>7.528</td>\n",
       "      <td>22ex.jpg</td>\n",
       "    </tr>\n",
       "    <tr>\n",
       "      <th>22</th>\n",
       "      <td>cjdvpea7j4kbv0116d06itzdm</td>\n",
       "      <td>https://firebasestorage.googleapis.com/v0/b/la...</td>\n",
       "      <td>Introvert Trait</td>\n",
       "      <td>Happy Singh</td>\n",
       "      <td>personality Analysis</td>\n",
       "      <td>5.851</td>\n",
       "      <td>23In.jpg</td>\n",
       "    </tr>\n",
       "    <tr>\n",
       "      <th>23</th>\n",
       "      <td>cjdvpezn24fb50184ldbw4qf5</td>\n",
       "      <td>https://firebasestorage.googleapis.com/v0/b/la...</td>\n",
       "      <td>Introvert Trait</td>\n",
       "      <td>Happy Singh</td>\n",
       "      <td>personality Analysis</td>\n",
       "      <td>30.881</td>\n",
       "      <td>24IN.jpg</td>\n",
       "    </tr>\n",
       "    <tr>\n",
       "      <th>24</th>\n",
       "      <td>cjdvpf4w47cvx0117199g1v2d</td>\n",
       "      <td>https://firebasestorage.googleapis.com/v0/b/la...</td>\n",
       "      <td>Introvert Trait</td>\n",
       "      <td>Happy Singh</td>\n",
       "      <td>personality Analysis</td>\n",
       "      <td>5.154</td>\n",
       "      <td>25Op.jpg</td>\n",
       "    </tr>\n",
       "    <tr>\n",
       "      <th>25</th>\n",
       "      <td>cjdvpfamp4km901166ikhz7du</td>\n",
       "      <td>https://firebasestorage.googleapis.com/v0/b/la...</td>\n",
       "      <td>Optimistic Trait</td>\n",
       "      <td>Happy Singh</td>\n",
       "      <td>personality Analysis</td>\n",
       "      <td>5.748</td>\n",
       "      <td>26Op.jpg</td>\n",
       "    </tr>\n",
       "    <tr>\n",
       "      <th>26</th>\n",
       "      <td>cjdvpffmywt9u0170p2nivybr</td>\n",
       "      <td>https://firebasestorage.googleapis.com/v0/b/la...</td>\n",
       "      <td>Optimistic Trait</td>\n",
       "      <td>Happy Singh</td>\n",
       "      <td>personality Analysis</td>\n",
       "      <td>4.878</td>\n",
       "      <td>27In.jpg</td>\n",
       "    </tr>\n",
       "    <tr>\n",
       "      <th>27</th>\n",
       "      <td>cjdvpfl0zwtbh0170d7nwwahy</td>\n",
       "      <td>https://firebasestorage.googleapis.com/v0/b/la...</td>\n",
       "      <td>Introvert Trait</td>\n",
       "      <td>Happy Singh</td>\n",
       "      <td>personality Analysis</td>\n",
       "      <td>5.475</td>\n",
       "      <td>28In.jpg</td>\n",
       "    </tr>\n",
       "    <tr>\n",
       "      <th>28</th>\n",
       "      <td>cjdvpfq8w4kpg01165gzsxjve</td>\n",
       "      <td>https://firebasestorage.googleapis.com/v0/b/la...</td>\n",
       "      <td>Introvert Trait</td>\n",
       "      <td>Happy Singh</td>\n",
       "      <td>personality Analysis</td>\n",
       "      <td>4.517</td>\n",
       "      <td>29In.jpg</td>\n",
       "    </tr>\n",
       "    <tr>\n",
       "      <th>29</th>\n",
       "      <td>cjdvpfxh3gokd01779pyolqjf</td>\n",
       "      <td>https://firebasestorage.googleapis.com/v0/b/la...</td>\n",
       "      <td>Introvert Trait</td>\n",
       "      <td>Happy Singh</td>\n",
       "      <td>personality Analysis</td>\n",
       "      <td>7.151</td>\n",
       "      <td>30L.jpg</td>\n",
       "    </tr>\n",
       "    <tr>\n",
       "      <th>30</th>\n",
       "      <td>cjdvpg3a1gom4017772ln47x5</td>\n",
       "      <td>https://firebasestorage.googleapis.com/v0/b/la...</td>\n",
       "      <td>Sloppy Trait</td>\n",
       "      <td>Happy Singh</td>\n",
       "      <td>personality Analysis</td>\n",
       "      <td>5.456</td>\n",
       "      <td>31In.jpg</td>\n",
       "    </tr>\n",
       "    <tr>\n",
       "      <th>31</th>\n",
       "      <td>cjdvpge1f4iq00192gb4rloju</td>\n",
       "      <td>https://firebasestorage.googleapis.com/v0/b/la...</td>\n",
       "      <td>Sloppy Trait</td>\n",
       "      <td>Happy Singh</td>\n",
       "      <td>personality Analysis</td>\n",
       "      <td>12.028</td>\n",
       "      <td>32In.jpg</td>\n",
       "    </tr>\n",
       "    <tr>\n",
       "      <th>32</th>\n",
       "      <td>cjdvpgnn1osbc0194m6pirn9b</td>\n",
       "      <td>https://firebasestorage.googleapis.com/v0/b/la...</td>\n",
       "      <td>Introvert Trait</td>\n",
       "      <td>Happy Singh</td>\n",
       "      <td>personality Analysis</td>\n",
       "      <td>10.695</td>\n",
       "      <td>33In.jpg</td>\n",
       "    </tr>\n",
       "    <tr>\n",
       "      <th>33</th>\n",
       "      <td>cjdvpgyov4ixy0192cegt1hfx</td>\n",
       "      <td>https://firebasestorage.googleapis.com/v0/b/la...</td>\n",
       "      <td>Sloppy Trait</td>\n",
       "      <td>Happy Singh</td>\n",
       "      <td>personality Analysis</td>\n",
       "      <td>12.513</td>\n",
       "      <td>34In.jpg</td>\n",
       "    </tr>\n",
       "    <tr>\n",
       "      <th>34</th>\n",
       "      <td>cjdvph9jv4l500116jbqw01d5</td>\n",
       "      <td>https://firebasestorage.googleapis.com/v0/b/la...</td>\n",
       "      <td>Optimistic Trait</td>\n",
       "      <td>Happy Singh</td>\n",
       "      <td>personality Analysis</td>\n",
       "      <td>12.229</td>\n",
       "      <td>35Op.jpg</td>\n",
       "    </tr>\n",
       "    <tr>\n",
       "      <th>35</th>\n",
       "      <td>cjdvphe8t4puu0120yrtv0ct0</td>\n",
       "      <td>https://firebasestorage.googleapis.com/v0/b/la...</td>\n",
       "      <td>Optimistic Trait</td>\n",
       "      <td>Happy Singh</td>\n",
       "      <td>personality Analysis</td>\n",
       "      <td>4.252</td>\n",
       "      <td>36Op.jpg</td>\n",
       "    </tr>\n",
       "    <tr>\n",
       "      <th>36</th>\n",
       "      <td>cjdvphj8s4l8n0116znqt58ep</td>\n",
       "      <td>https://firebasestorage.googleapis.com/v0/b/la...</td>\n",
       "      <td>Optimistic Trait</td>\n",
       "      <td>Happy Singh</td>\n",
       "      <td>personality Analysis</td>\n",
       "      <td>4.572</td>\n",
       "      <td>37Op.jpg</td>\n",
       "    </tr>\n",
       "    <tr>\n",
       "      <th>37</th>\n",
       "      <td>cjdvphruu6k400193c7a3h9w6</td>\n",
       "      <td>https://firebasestorage.googleapis.com/v0/b/la...</td>\n",
       "      <td>Optimistic Trait</td>\n",
       "      <td>Happy Singh</td>\n",
       "      <td>personality Analysis</td>\n",
       "      <td>8.841</td>\n",
       "      <td>38Op.jpg</td>\n",
       "    </tr>\n",
       "    <tr>\n",
       "      <th>38</th>\n",
       "      <td>cjdvphy5t4q2j0120fpt2zdu6</td>\n",
       "      <td>https://firebasestorage.googleapis.com/v0/b/la...</td>\n",
       "      <td>Optimistic Trait</td>\n",
       "      <td>Happy Singh</td>\n",
       "      <td>personality Analysis</td>\n",
       "      <td>6.279</td>\n",
       "      <td>39Op.jpg</td>\n",
       "    </tr>\n",
       "    <tr>\n",
       "      <th>39</th>\n",
       "      <td>cjdvpi3m64led01162z98scbs</td>\n",
       "      <td>https://firebasestorage.googleapis.com/v0/b/la...</td>\n",
       "      <td>Sloppy Trait</td>\n",
       "      <td>Happy Singh</td>\n",
       "      <td>personality Analysis</td>\n",
       "      <td>5.444</td>\n",
       "      <td>40L.jpg</td>\n",
       "    </tr>\n",
       "    <tr>\n",
       "      <th>40</th>\n",
       "      <td>cjdvpi90hosqo0194i0l7noc3</td>\n",
       "      <td>https://firebasestorage.googleapis.com/v0/b/la...</td>\n",
       "      <td>Sloppy Trait</td>\n",
       "      <td>Happy Singh</td>\n",
       "      <td>personality Analysis</td>\n",
       "      <td>5.396</td>\n",
       "      <td>41L.jpg</td>\n",
       "    </tr>\n",
       "    <tr>\n",
       "      <th>41</th>\n",
       "      <td>cjdvpiec35m7b01985fn7f6h8</td>\n",
       "      <td>https://firebasestorage.googleapis.com/v0/b/la...</td>\n",
       "      <td>Sloppy Trait</td>\n",
       "      <td>Happy Singh</td>\n",
       "      <td>personality Analysis</td>\n",
       "      <td>5.328</td>\n",
       "      <td>42L.jpg</td>\n",
       "    </tr>\n",
       "    <tr>\n",
       "      <th>42</th>\n",
       "      <td>cjdvpijjf7dr70117ffq3k5ud</td>\n",
       "      <td>https://firebasestorage.googleapis.com/v0/b/la...</td>\n",
       "      <td>Sloppy Trait</td>\n",
       "      <td>Happy Singh</td>\n",
       "      <td>personality Analysis</td>\n",
       "      <td>4.969</td>\n",
       "      <td>43L.jpg</td>\n",
       "    </tr>\n",
       "    <tr>\n",
       "      <th>43</th>\n",
       "      <td>cjdvpiovw7mat016977illqge</td>\n",
       "      <td>https://firebasestorage.googleapis.com/v0/b/la...</td>\n",
       "      <td>Sloppy Trait</td>\n",
       "      <td>Happy Singh</td>\n",
       "      <td>personality Analysis</td>\n",
       "      <td>5.076</td>\n",
       "      <td>44L.jpg</td>\n",
       "    </tr>\n",
       "    <tr>\n",
       "      <th>44</th>\n",
       "      <td>cjdvpj6u7osy601943jw7xdbc</td>\n",
       "      <td>https://firebasestorage.googleapis.com/v0/b/la...</td>\n",
       "      <td>Extrovert Trait</td>\n",
       "      <td>Happy Singh</td>\n",
       "      <td>personality Analysis</td>\n",
       "      <td>21.402</td>\n",
       "      <td>45L.jpg</td>\n",
       "    </tr>\n",
       "  </tbody>\n",
       "</table>\n",
       "</div>"
      ],
      "text/plain": [
       "                           ID  \\\n",
       "0   cjdvp9kbs5jhr0198bgqfnhaj   \n",
       "1   cjdvp9ut17jhr01693k4nbus5   \n",
       "2   cjdvpa3pw4nfk0120c5iahx4h   \n",
       "3   cjdvpabrx7b4m0117sryd6n60   \n",
       "4   cjdvpaingoq9t0194bvdhbe8l   \n",
       "5   cjdvpapbijz7t0194zu51gupl   \n",
       "6   cjdvpawmzgmug0177ix4lzo65   \n",
       "7   cjdvpb2fsgmvt01772d66hn4s   \n",
       "8   cjdvpb8n04j3v0116xg2ar6x7   \n",
       "9   cjdvpbeio4nti0120tovhjtoz   \n",
       "10  cjdvpbl1m5k0z01989ipgbmx7   \n",
       "11  cjdvpbq7c4nxo01201c8g5jkk   \n",
       "12  cjdvpbvfe7bjv0117z76kffte   \n",
       "13  cjdvpc1bgoqou0194380oyzpa   \n",
       "14  cjdvpc83o4o1v0120p3nc16fe   \n",
       "15  cjdvpckz04ead0184t3ir41xt   \n",
       "16  cjdvpcsl5gnhj0177qx3xu9q9   \n",
       "17  cjdvpd2s64eox0184c3bb0nku   \n",
       "18  cjdvpdhvuwst00170ag7gj68z   \n",
       "19  cjdvpdq0vk0gx0194gwqfwfgv   \n",
       "20  cjdvpdx7l4f3q018476h02qtg   \n",
       "21  cjdvpe4837l3m0169sdh7wb3j   \n",
       "22  cjdvpea7j4kbv0116d06itzdm   \n",
       "23  cjdvpezn24fb50184ldbw4qf5   \n",
       "24  cjdvpf4w47cvx0117199g1v2d   \n",
       "25  cjdvpfamp4km901166ikhz7du   \n",
       "26  cjdvpffmywt9u0170p2nivybr   \n",
       "27  cjdvpfl0zwtbh0170d7nwwahy   \n",
       "28  cjdvpfq8w4kpg01165gzsxjve   \n",
       "29  cjdvpfxh3gokd01779pyolqjf   \n",
       "30  cjdvpg3a1gom4017772ln47x5   \n",
       "31  cjdvpge1f4iq00192gb4rloju   \n",
       "32  cjdvpgnn1osbc0194m6pirn9b   \n",
       "33  cjdvpgyov4ixy0192cegt1hfx   \n",
       "34  cjdvph9jv4l500116jbqw01d5   \n",
       "35  cjdvphe8t4puu0120yrtv0ct0   \n",
       "36  cjdvphj8s4l8n0116znqt58ep   \n",
       "37  cjdvphruu6k400193c7a3h9w6   \n",
       "38  cjdvphy5t4q2j0120fpt2zdu6   \n",
       "39  cjdvpi3m64led01162z98scbs   \n",
       "40  cjdvpi90hosqo0194i0l7noc3   \n",
       "41  cjdvpiec35m7b01985fn7f6h8   \n",
       "42  cjdvpijjf7dr70117ffq3k5ud   \n",
       "43  cjdvpiovw7mat016977illqge   \n",
       "44  cjdvpj6u7osy601943jw7xdbc   \n",
       "\n",
       "                                         Labeled Data             Label  \\\n",
       "0   https://firebasestorage.googleapis.com/v0/b/la...   Energetic Trait   \n",
       "1   https://firebasestorage.googleapis.com/v0/b/la...   Energetic Trait   \n",
       "2   https://firebasestorage.googleapis.com/v0/b/la...   Energetic Trait   \n",
       "3   https://firebasestorage.googleapis.com/v0/b/la...   Energetic Trait   \n",
       "4   https://firebasestorage.googleapis.com/v0/b/la...   Energetic Trait   \n",
       "5   https://firebasestorage.googleapis.com/v0/b/la...   Energetic Trait   \n",
       "6   https://firebasestorage.googleapis.com/v0/b/la...   Energetic Trait   \n",
       "7   https://firebasestorage.googleapis.com/v0/b/la...   Energetic Trait   \n",
       "8   https://firebasestorage.googleapis.com/v0/b/la...   Energetic Trait   \n",
       "9   https://firebasestorage.googleapis.com/v0/b/la...   Energetic Trait   \n",
       "10  https://firebasestorage.googleapis.com/v0/b/la...   Extrovert Trait   \n",
       "11  https://firebasestorage.googleapis.com/v0/b/la...   Extrovert Trait   \n",
       "12  https://firebasestorage.googleapis.com/v0/b/la...   Extrovert Trait   \n",
       "13  https://firebasestorage.googleapis.com/v0/b/la...   Extrovert Trait   \n",
       "14  https://firebasestorage.googleapis.com/v0/b/la...   Extrovert Trait   \n",
       "15  https://firebasestorage.googleapis.com/v0/b/la...   Extrovert Trait   \n",
       "16  https://firebasestorage.googleapis.com/v0/b/la...   Extrovert Trait   \n",
       "17  https://firebasestorage.googleapis.com/v0/b/la...   Extrovert Trait   \n",
       "18  https://firebasestorage.googleapis.com/v0/b/la...   Extrovert Trait   \n",
       "19  https://firebasestorage.googleapis.com/v0/b/la...      Sloppy Trait   \n",
       "20  https://firebasestorage.googleapis.com/v0/b/la...   Extrovert Trait   \n",
       "21  https://firebasestorage.googleapis.com/v0/b/la...   Extrovert Trait   \n",
       "22  https://firebasestorage.googleapis.com/v0/b/la...   Introvert Trait   \n",
       "23  https://firebasestorage.googleapis.com/v0/b/la...   Introvert Trait   \n",
       "24  https://firebasestorage.googleapis.com/v0/b/la...   Introvert Trait   \n",
       "25  https://firebasestorage.googleapis.com/v0/b/la...  Optimistic Trait   \n",
       "26  https://firebasestorage.googleapis.com/v0/b/la...  Optimistic Trait   \n",
       "27  https://firebasestorage.googleapis.com/v0/b/la...   Introvert Trait   \n",
       "28  https://firebasestorage.googleapis.com/v0/b/la...   Introvert Trait   \n",
       "29  https://firebasestorage.googleapis.com/v0/b/la...   Introvert Trait   \n",
       "30  https://firebasestorage.googleapis.com/v0/b/la...      Sloppy Trait   \n",
       "31  https://firebasestorage.googleapis.com/v0/b/la...      Sloppy Trait   \n",
       "32  https://firebasestorage.googleapis.com/v0/b/la...   Introvert Trait   \n",
       "33  https://firebasestorage.googleapis.com/v0/b/la...      Sloppy Trait   \n",
       "34  https://firebasestorage.googleapis.com/v0/b/la...  Optimistic Trait   \n",
       "35  https://firebasestorage.googleapis.com/v0/b/la...  Optimistic Trait   \n",
       "36  https://firebasestorage.googleapis.com/v0/b/la...  Optimistic Trait   \n",
       "37  https://firebasestorage.googleapis.com/v0/b/la...  Optimistic Trait   \n",
       "38  https://firebasestorage.googleapis.com/v0/b/la...  Optimistic Trait   \n",
       "39  https://firebasestorage.googleapis.com/v0/b/la...      Sloppy Trait   \n",
       "40  https://firebasestorage.googleapis.com/v0/b/la...      Sloppy Trait   \n",
       "41  https://firebasestorage.googleapis.com/v0/b/la...      Sloppy Trait   \n",
       "42  https://firebasestorage.googleapis.com/v0/b/la...      Sloppy Trait   \n",
       "43  https://firebasestorage.googleapis.com/v0/b/la...      Sloppy Trait   \n",
       "44  https://firebasestorage.googleapis.com/v0/b/la...   Extrovert Trait   \n",
       "\n",
       "     Created By          Project Name  Seconds to Label External ID  \n",
       "0   Happy Singh  personality Analysis            28.388     1en.jpg  \n",
       "1   Happy Singh  personality Analysis            11.163     2en.jpg  \n",
       "2   Happy Singh  personality Analysis             8.871     3en.jpg  \n",
       "3   Happy Singh  personality Analysis             8.489     4en.jpg  \n",
       "4   Happy Singh  personality Analysis             6.141     5en.jpg  \n",
       "5   Happy Singh  personality Analysis             6.798     6en.jpg  \n",
       "6   Happy Singh  personality Analysis             5.587     7en.jpg  \n",
       "7   Happy Singh  personality Analysis             5.668     8en.jpg  \n",
       "8   Happy Singh  personality Analysis             6.228     9en.jpg  \n",
       "9   Happy Singh  personality Analysis             5.780    10en.jpg  \n",
       "10  Happy Singh  personality Analysis             6.267    11ex.jpg  \n",
       "11  Happy Singh  personality Analysis             4.780    12ex.jpg  \n",
       "12  Happy Singh  personality Analysis             5.003    13ex.jpg  \n",
       "13  Happy Singh  personality Analysis             6.083    14ex.jpg  \n",
       "14  Happy Singh  personality Analysis             7.237    15ex.jpg  \n",
       "15  Happy Singh  personality Analysis            14.276    16ex.jpg  \n",
       "16  Happy Singh  personality Analysis             7.575    17ex.jpg  \n",
       "17  Happy Singh  personality Analysis             9.847    18ex.jpg  \n",
       "18  Happy Singh  personality Analysis            17.604    19ex.jpg  \n",
       "19  Happy Singh  personality Analysis             8.794     19L.jpg  \n",
       "20  Happy Singh  personality Analysis             7.354    21ex.jpg  \n",
       "21  Happy Singh  personality Analysis             7.528    22ex.jpg  \n",
       "22  Happy Singh  personality Analysis             5.851    23In.jpg  \n",
       "23  Happy Singh  personality Analysis            30.881    24IN.jpg  \n",
       "24  Happy Singh  personality Analysis             5.154    25Op.jpg  \n",
       "25  Happy Singh  personality Analysis             5.748    26Op.jpg  \n",
       "26  Happy Singh  personality Analysis             4.878    27In.jpg  \n",
       "27  Happy Singh  personality Analysis             5.475    28In.jpg  \n",
       "28  Happy Singh  personality Analysis             4.517    29In.jpg  \n",
       "29  Happy Singh  personality Analysis             7.151     30L.jpg  \n",
       "30  Happy Singh  personality Analysis             5.456    31In.jpg  \n",
       "31  Happy Singh  personality Analysis            12.028    32In.jpg  \n",
       "32  Happy Singh  personality Analysis            10.695    33In.jpg  \n",
       "33  Happy Singh  personality Analysis            12.513    34In.jpg  \n",
       "34  Happy Singh  personality Analysis            12.229    35Op.jpg  \n",
       "35  Happy Singh  personality Analysis             4.252    36Op.jpg  \n",
       "36  Happy Singh  personality Analysis             4.572    37Op.jpg  \n",
       "37  Happy Singh  personality Analysis             8.841    38Op.jpg  \n",
       "38  Happy Singh  personality Analysis             6.279    39Op.jpg  \n",
       "39  Happy Singh  personality Analysis             5.444     40L.jpg  \n",
       "40  Happy Singh  personality Analysis             5.396     41L.jpg  \n",
       "41  Happy Singh  personality Analysis             5.328     42L.jpg  \n",
       "42  Happy Singh  personality Analysis             4.969     43L.jpg  \n",
       "43  Happy Singh  personality Analysis             5.076     44L.jpg  \n",
       "44  Happy Singh  personality Analysis            21.402     45L.jpg  "
      ]
     },
     "execution_count": 11,
     "metadata": {},
     "output_type": "execute_result"
    }
   ],
   "source": [
    "df"
   ]
  },
  {
   "cell_type": "code",
   "execution_count": 12,
   "metadata": {},
   "outputs": [],
   "source": [
    "columns=['Id','Image','Label','creater','project_name','time','File_Name']"
   ]
  },
  {
   "cell_type": "code",
   "execution_count": null,
   "metadata": {},
   "outputs": [],
   "source": []
  },
  {
   "cell_type": "code",
   "execution_count": null,
   "metadata": {},
   "outputs": [],
   "source": []
  },
  {
   "cell_type": "code",
   "execution_count": 14,
   "metadata": {},
   "outputs": [],
   "source": [
    "df.columns=columns"
   ]
  },
  {
   "cell_type": "code",
   "execution_count": 15,
   "metadata": {},
   "outputs": [
    {
     "data": {
      "text/html": [
       "<div>\n",
       "<table border=\"1\" class=\"dataframe\">\n",
       "  <thead>\n",
       "    <tr style=\"text-align: right;\">\n",
       "      <th></th>\n",
       "      <th>Id</th>\n",
       "      <th>Image</th>\n",
       "      <th>Label</th>\n",
       "      <th>creater</th>\n",
       "      <th>project_name</th>\n",
       "      <th>time</th>\n",
       "      <th>File_Name</th>\n",
       "    </tr>\n",
       "  </thead>\n",
       "  <tbody>\n",
       "    <tr>\n",
       "      <th>0</th>\n",
       "      <td>cjdvp9kbs5jhr0198bgqfnhaj</td>\n",
       "      <td>https://firebasestorage.googleapis.com/v0/b/la...</td>\n",
       "      <td>Energetic Trait</td>\n",
       "      <td>Happy Singh</td>\n",
       "      <td>personality Analysis</td>\n",
       "      <td>28.388</td>\n",
       "      <td>1en.jpg</td>\n",
       "    </tr>\n",
       "    <tr>\n",
       "      <th>1</th>\n",
       "      <td>cjdvp9ut17jhr01693k4nbus5</td>\n",
       "      <td>https://firebasestorage.googleapis.com/v0/b/la...</td>\n",
       "      <td>Energetic Trait</td>\n",
       "      <td>Happy Singh</td>\n",
       "      <td>personality Analysis</td>\n",
       "      <td>11.163</td>\n",
       "      <td>2en.jpg</td>\n",
       "    </tr>\n",
       "    <tr>\n",
       "      <th>2</th>\n",
       "      <td>cjdvpa3pw4nfk0120c5iahx4h</td>\n",
       "      <td>https://firebasestorage.googleapis.com/v0/b/la...</td>\n",
       "      <td>Energetic Trait</td>\n",
       "      <td>Happy Singh</td>\n",
       "      <td>personality Analysis</td>\n",
       "      <td>8.871</td>\n",
       "      <td>3en.jpg</td>\n",
       "    </tr>\n",
       "    <tr>\n",
       "      <th>3</th>\n",
       "      <td>cjdvpabrx7b4m0117sryd6n60</td>\n",
       "      <td>https://firebasestorage.googleapis.com/v0/b/la...</td>\n",
       "      <td>Energetic Trait</td>\n",
       "      <td>Happy Singh</td>\n",
       "      <td>personality Analysis</td>\n",
       "      <td>8.489</td>\n",
       "      <td>4en.jpg</td>\n",
       "    </tr>\n",
       "    <tr>\n",
       "      <th>4</th>\n",
       "      <td>cjdvpaingoq9t0194bvdhbe8l</td>\n",
       "      <td>https://firebasestorage.googleapis.com/v0/b/la...</td>\n",
       "      <td>Energetic Trait</td>\n",
       "      <td>Happy Singh</td>\n",
       "      <td>personality Analysis</td>\n",
       "      <td>6.141</td>\n",
       "      <td>5en.jpg</td>\n",
       "    </tr>\n",
       "    <tr>\n",
       "      <th>5</th>\n",
       "      <td>cjdvpapbijz7t0194zu51gupl</td>\n",
       "      <td>https://firebasestorage.googleapis.com/v0/b/la...</td>\n",
       "      <td>Energetic Trait</td>\n",
       "      <td>Happy Singh</td>\n",
       "      <td>personality Analysis</td>\n",
       "      <td>6.798</td>\n",
       "      <td>6en.jpg</td>\n",
       "    </tr>\n",
       "    <tr>\n",
       "      <th>6</th>\n",
       "      <td>cjdvpawmzgmug0177ix4lzo65</td>\n",
       "      <td>https://firebasestorage.googleapis.com/v0/b/la...</td>\n",
       "      <td>Energetic Trait</td>\n",
       "      <td>Happy Singh</td>\n",
       "      <td>personality Analysis</td>\n",
       "      <td>5.587</td>\n",
       "      <td>7en.jpg</td>\n",
       "    </tr>\n",
       "    <tr>\n",
       "      <th>7</th>\n",
       "      <td>cjdvpb2fsgmvt01772d66hn4s</td>\n",
       "      <td>https://firebasestorage.googleapis.com/v0/b/la...</td>\n",
       "      <td>Energetic Trait</td>\n",
       "      <td>Happy Singh</td>\n",
       "      <td>personality Analysis</td>\n",
       "      <td>5.668</td>\n",
       "      <td>8en.jpg</td>\n",
       "    </tr>\n",
       "    <tr>\n",
       "      <th>8</th>\n",
       "      <td>cjdvpb8n04j3v0116xg2ar6x7</td>\n",
       "      <td>https://firebasestorage.googleapis.com/v0/b/la...</td>\n",
       "      <td>Energetic Trait</td>\n",
       "      <td>Happy Singh</td>\n",
       "      <td>personality Analysis</td>\n",
       "      <td>6.228</td>\n",
       "      <td>9en.jpg</td>\n",
       "    </tr>\n",
       "    <tr>\n",
       "      <th>9</th>\n",
       "      <td>cjdvpbeio4nti0120tovhjtoz</td>\n",
       "      <td>https://firebasestorage.googleapis.com/v0/b/la...</td>\n",
       "      <td>Energetic Trait</td>\n",
       "      <td>Happy Singh</td>\n",
       "      <td>personality Analysis</td>\n",
       "      <td>5.780</td>\n",
       "      <td>10en.jpg</td>\n",
       "    </tr>\n",
       "    <tr>\n",
       "      <th>10</th>\n",
       "      <td>cjdvpbl1m5k0z01989ipgbmx7</td>\n",
       "      <td>https://firebasestorage.googleapis.com/v0/b/la...</td>\n",
       "      <td>Extrovert Trait</td>\n",
       "      <td>Happy Singh</td>\n",
       "      <td>personality Analysis</td>\n",
       "      <td>6.267</td>\n",
       "      <td>11ex.jpg</td>\n",
       "    </tr>\n",
       "    <tr>\n",
       "      <th>11</th>\n",
       "      <td>cjdvpbq7c4nxo01201c8g5jkk</td>\n",
       "      <td>https://firebasestorage.googleapis.com/v0/b/la...</td>\n",
       "      <td>Extrovert Trait</td>\n",
       "      <td>Happy Singh</td>\n",
       "      <td>personality Analysis</td>\n",
       "      <td>4.780</td>\n",
       "      <td>12ex.jpg</td>\n",
       "    </tr>\n",
       "    <tr>\n",
       "      <th>12</th>\n",
       "      <td>cjdvpbvfe7bjv0117z76kffte</td>\n",
       "      <td>https://firebasestorage.googleapis.com/v0/b/la...</td>\n",
       "      <td>Extrovert Trait</td>\n",
       "      <td>Happy Singh</td>\n",
       "      <td>personality Analysis</td>\n",
       "      <td>5.003</td>\n",
       "      <td>13ex.jpg</td>\n",
       "    </tr>\n",
       "    <tr>\n",
       "      <th>13</th>\n",
       "      <td>cjdvpc1bgoqou0194380oyzpa</td>\n",
       "      <td>https://firebasestorage.googleapis.com/v0/b/la...</td>\n",
       "      <td>Extrovert Trait</td>\n",
       "      <td>Happy Singh</td>\n",
       "      <td>personality Analysis</td>\n",
       "      <td>6.083</td>\n",
       "      <td>14ex.jpg</td>\n",
       "    </tr>\n",
       "    <tr>\n",
       "      <th>14</th>\n",
       "      <td>cjdvpc83o4o1v0120p3nc16fe</td>\n",
       "      <td>https://firebasestorage.googleapis.com/v0/b/la...</td>\n",
       "      <td>Extrovert Trait</td>\n",
       "      <td>Happy Singh</td>\n",
       "      <td>personality Analysis</td>\n",
       "      <td>7.237</td>\n",
       "      <td>15ex.jpg</td>\n",
       "    </tr>\n",
       "    <tr>\n",
       "      <th>15</th>\n",
       "      <td>cjdvpckz04ead0184t3ir41xt</td>\n",
       "      <td>https://firebasestorage.googleapis.com/v0/b/la...</td>\n",
       "      <td>Extrovert Trait</td>\n",
       "      <td>Happy Singh</td>\n",
       "      <td>personality Analysis</td>\n",
       "      <td>14.276</td>\n",
       "      <td>16ex.jpg</td>\n",
       "    </tr>\n",
       "    <tr>\n",
       "      <th>16</th>\n",
       "      <td>cjdvpcsl5gnhj0177qx3xu9q9</td>\n",
       "      <td>https://firebasestorage.googleapis.com/v0/b/la...</td>\n",
       "      <td>Extrovert Trait</td>\n",
       "      <td>Happy Singh</td>\n",
       "      <td>personality Analysis</td>\n",
       "      <td>7.575</td>\n",
       "      <td>17ex.jpg</td>\n",
       "    </tr>\n",
       "    <tr>\n",
       "      <th>17</th>\n",
       "      <td>cjdvpd2s64eox0184c3bb0nku</td>\n",
       "      <td>https://firebasestorage.googleapis.com/v0/b/la...</td>\n",
       "      <td>Extrovert Trait</td>\n",
       "      <td>Happy Singh</td>\n",
       "      <td>personality Analysis</td>\n",
       "      <td>9.847</td>\n",
       "      <td>18ex.jpg</td>\n",
       "    </tr>\n",
       "    <tr>\n",
       "      <th>18</th>\n",
       "      <td>cjdvpdhvuwst00170ag7gj68z</td>\n",
       "      <td>https://firebasestorage.googleapis.com/v0/b/la...</td>\n",
       "      <td>Extrovert Trait</td>\n",
       "      <td>Happy Singh</td>\n",
       "      <td>personality Analysis</td>\n",
       "      <td>17.604</td>\n",
       "      <td>19ex.jpg</td>\n",
       "    </tr>\n",
       "    <tr>\n",
       "      <th>19</th>\n",
       "      <td>cjdvpdq0vk0gx0194gwqfwfgv</td>\n",
       "      <td>https://firebasestorage.googleapis.com/v0/b/la...</td>\n",
       "      <td>Sloppy Trait</td>\n",
       "      <td>Happy Singh</td>\n",
       "      <td>personality Analysis</td>\n",
       "      <td>8.794</td>\n",
       "      <td>19L.jpg</td>\n",
       "    </tr>\n",
       "    <tr>\n",
       "      <th>20</th>\n",
       "      <td>cjdvpdx7l4f3q018476h02qtg</td>\n",
       "      <td>https://firebasestorage.googleapis.com/v0/b/la...</td>\n",
       "      <td>Extrovert Trait</td>\n",
       "      <td>Happy Singh</td>\n",
       "      <td>personality Analysis</td>\n",
       "      <td>7.354</td>\n",
       "      <td>21ex.jpg</td>\n",
       "    </tr>\n",
       "    <tr>\n",
       "      <th>21</th>\n",
       "      <td>cjdvpe4837l3m0169sdh7wb3j</td>\n",
       "      <td>https://firebasestorage.googleapis.com/v0/b/la...</td>\n",
       "      <td>Extrovert Trait</td>\n",
       "      <td>Happy Singh</td>\n",
       "      <td>personality Analysis</td>\n",
       "      <td>7.528</td>\n",
       "      <td>22ex.jpg</td>\n",
       "    </tr>\n",
       "    <tr>\n",
       "      <th>22</th>\n",
       "      <td>cjdvpea7j4kbv0116d06itzdm</td>\n",
       "      <td>https://firebasestorage.googleapis.com/v0/b/la...</td>\n",
       "      <td>Introvert Trait</td>\n",
       "      <td>Happy Singh</td>\n",
       "      <td>personality Analysis</td>\n",
       "      <td>5.851</td>\n",
       "      <td>23In.jpg</td>\n",
       "    </tr>\n",
       "    <tr>\n",
       "      <th>23</th>\n",
       "      <td>cjdvpezn24fb50184ldbw4qf5</td>\n",
       "      <td>https://firebasestorage.googleapis.com/v0/b/la...</td>\n",
       "      <td>Introvert Trait</td>\n",
       "      <td>Happy Singh</td>\n",
       "      <td>personality Analysis</td>\n",
       "      <td>30.881</td>\n",
       "      <td>24IN.jpg</td>\n",
       "    </tr>\n",
       "    <tr>\n",
       "      <th>24</th>\n",
       "      <td>cjdvpf4w47cvx0117199g1v2d</td>\n",
       "      <td>https://firebasestorage.googleapis.com/v0/b/la...</td>\n",
       "      <td>Introvert Trait</td>\n",
       "      <td>Happy Singh</td>\n",
       "      <td>personality Analysis</td>\n",
       "      <td>5.154</td>\n",
       "      <td>25Op.jpg</td>\n",
       "    </tr>\n",
       "    <tr>\n",
       "      <th>25</th>\n",
       "      <td>cjdvpfamp4km901166ikhz7du</td>\n",
       "      <td>https://firebasestorage.googleapis.com/v0/b/la...</td>\n",
       "      <td>Optimistic Trait</td>\n",
       "      <td>Happy Singh</td>\n",
       "      <td>personality Analysis</td>\n",
       "      <td>5.748</td>\n",
       "      <td>26Op.jpg</td>\n",
       "    </tr>\n",
       "    <tr>\n",
       "      <th>26</th>\n",
       "      <td>cjdvpffmywt9u0170p2nivybr</td>\n",
       "      <td>https://firebasestorage.googleapis.com/v0/b/la...</td>\n",
       "      <td>Optimistic Trait</td>\n",
       "      <td>Happy Singh</td>\n",
       "      <td>personality Analysis</td>\n",
       "      <td>4.878</td>\n",
       "      <td>27In.jpg</td>\n",
       "    </tr>\n",
       "    <tr>\n",
       "      <th>27</th>\n",
       "      <td>cjdvpfl0zwtbh0170d7nwwahy</td>\n",
       "      <td>https://firebasestorage.googleapis.com/v0/b/la...</td>\n",
       "      <td>Introvert Trait</td>\n",
       "      <td>Happy Singh</td>\n",
       "      <td>personality Analysis</td>\n",
       "      <td>5.475</td>\n",
       "      <td>28In.jpg</td>\n",
       "    </tr>\n",
       "    <tr>\n",
       "      <th>28</th>\n",
       "      <td>cjdvpfq8w4kpg01165gzsxjve</td>\n",
       "      <td>https://firebasestorage.googleapis.com/v0/b/la...</td>\n",
       "      <td>Introvert Trait</td>\n",
       "      <td>Happy Singh</td>\n",
       "      <td>personality Analysis</td>\n",
       "      <td>4.517</td>\n",
       "      <td>29In.jpg</td>\n",
       "    </tr>\n",
       "    <tr>\n",
       "      <th>29</th>\n",
       "      <td>cjdvpfxh3gokd01779pyolqjf</td>\n",
       "      <td>https://firebasestorage.googleapis.com/v0/b/la...</td>\n",
       "      <td>Introvert Trait</td>\n",
       "      <td>Happy Singh</td>\n",
       "      <td>personality Analysis</td>\n",
       "      <td>7.151</td>\n",
       "      <td>30L.jpg</td>\n",
       "    </tr>\n",
       "    <tr>\n",
       "      <th>30</th>\n",
       "      <td>cjdvpg3a1gom4017772ln47x5</td>\n",
       "      <td>https://firebasestorage.googleapis.com/v0/b/la...</td>\n",
       "      <td>Sloppy Trait</td>\n",
       "      <td>Happy Singh</td>\n",
       "      <td>personality Analysis</td>\n",
       "      <td>5.456</td>\n",
       "      <td>31In.jpg</td>\n",
       "    </tr>\n",
       "    <tr>\n",
       "      <th>31</th>\n",
       "      <td>cjdvpge1f4iq00192gb4rloju</td>\n",
       "      <td>https://firebasestorage.googleapis.com/v0/b/la...</td>\n",
       "      <td>Sloppy Trait</td>\n",
       "      <td>Happy Singh</td>\n",
       "      <td>personality Analysis</td>\n",
       "      <td>12.028</td>\n",
       "      <td>32In.jpg</td>\n",
       "    </tr>\n",
       "    <tr>\n",
       "      <th>32</th>\n",
       "      <td>cjdvpgnn1osbc0194m6pirn9b</td>\n",
       "      <td>https://firebasestorage.googleapis.com/v0/b/la...</td>\n",
       "      <td>Introvert Trait</td>\n",
       "      <td>Happy Singh</td>\n",
       "      <td>personality Analysis</td>\n",
       "      <td>10.695</td>\n",
       "      <td>33In.jpg</td>\n",
       "    </tr>\n",
       "    <tr>\n",
       "      <th>33</th>\n",
       "      <td>cjdvpgyov4ixy0192cegt1hfx</td>\n",
       "      <td>https://firebasestorage.googleapis.com/v0/b/la...</td>\n",
       "      <td>Sloppy Trait</td>\n",
       "      <td>Happy Singh</td>\n",
       "      <td>personality Analysis</td>\n",
       "      <td>12.513</td>\n",
       "      <td>34In.jpg</td>\n",
       "    </tr>\n",
       "    <tr>\n",
       "      <th>34</th>\n",
       "      <td>cjdvph9jv4l500116jbqw01d5</td>\n",
       "      <td>https://firebasestorage.googleapis.com/v0/b/la...</td>\n",
       "      <td>Optimistic Trait</td>\n",
       "      <td>Happy Singh</td>\n",
       "      <td>personality Analysis</td>\n",
       "      <td>12.229</td>\n",
       "      <td>35Op.jpg</td>\n",
       "    </tr>\n",
       "    <tr>\n",
       "      <th>35</th>\n",
       "      <td>cjdvphe8t4puu0120yrtv0ct0</td>\n",
       "      <td>https://firebasestorage.googleapis.com/v0/b/la...</td>\n",
       "      <td>Optimistic Trait</td>\n",
       "      <td>Happy Singh</td>\n",
       "      <td>personality Analysis</td>\n",
       "      <td>4.252</td>\n",
       "      <td>36Op.jpg</td>\n",
       "    </tr>\n",
       "    <tr>\n",
       "      <th>36</th>\n",
       "      <td>cjdvphj8s4l8n0116znqt58ep</td>\n",
       "      <td>https://firebasestorage.googleapis.com/v0/b/la...</td>\n",
       "      <td>Optimistic Trait</td>\n",
       "      <td>Happy Singh</td>\n",
       "      <td>personality Analysis</td>\n",
       "      <td>4.572</td>\n",
       "      <td>37Op.jpg</td>\n",
       "    </tr>\n",
       "    <tr>\n",
       "      <th>37</th>\n",
       "      <td>cjdvphruu6k400193c7a3h9w6</td>\n",
       "      <td>https://firebasestorage.googleapis.com/v0/b/la...</td>\n",
       "      <td>Optimistic Trait</td>\n",
       "      <td>Happy Singh</td>\n",
       "      <td>personality Analysis</td>\n",
       "      <td>8.841</td>\n",
       "      <td>38Op.jpg</td>\n",
       "    </tr>\n",
       "    <tr>\n",
       "      <th>38</th>\n",
       "      <td>cjdvphy5t4q2j0120fpt2zdu6</td>\n",
       "      <td>https://firebasestorage.googleapis.com/v0/b/la...</td>\n",
       "      <td>Optimistic Trait</td>\n",
       "      <td>Happy Singh</td>\n",
       "      <td>personality Analysis</td>\n",
       "      <td>6.279</td>\n",
       "      <td>39Op.jpg</td>\n",
       "    </tr>\n",
       "    <tr>\n",
       "      <th>39</th>\n",
       "      <td>cjdvpi3m64led01162z98scbs</td>\n",
       "      <td>https://firebasestorage.googleapis.com/v0/b/la...</td>\n",
       "      <td>Sloppy Trait</td>\n",
       "      <td>Happy Singh</td>\n",
       "      <td>personality Analysis</td>\n",
       "      <td>5.444</td>\n",
       "      <td>40L.jpg</td>\n",
       "    </tr>\n",
       "    <tr>\n",
       "      <th>40</th>\n",
       "      <td>cjdvpi90hosqo0194i0l7noc3</td>\n",
       "      <td>https://firebasestorage.googleapis.com/v0/b/la...</td>\n",
       "      <td>Sloppy Trait</td>\n",
       "      <td>Happy Singh</td>\n",
       "      <td>personality Analysis</td>\n",
       "      <td>5.396</td>\n",
       "      <td>41L.jpg</td>\n",
       "    </tr>\n",
       "    <tr>\n",
       "      <th>41</th>\n",
       "      <td>cjdvpiec35m7b01985fn7f6h8</td>\n",
       "      <td>https://firebasestorage.googleapis.com/v0/b/la...</td>\n",
       "      <td>Sloppy Trait</td>\n",
       "      <td>Happy Singh</td>\n",
       "      <td>personality Analysis</td>\n",
       "      <td>5.328</td>\n",
       "      <td>42L.jpg</td>\n",
       "    </tr>\n",
       "    <tr>\n",
       "      <th>42</th>\n",
       "      <td>cjdvpijjf7dr70117ffq3k5ud</td>\n",
       "      <td>https://firebasestorage.googleapis.com/v0/b/la...</td>\n",
       "      <td>Sloppy Trait</td>\n",
       "      <td>Happy Singh</td>\n",
       "      <td>personality Analysis</td>\n",
       "      <td>4.969</td>\n",
       "      <td>43L.jpg</td>\n",
       "    </tr>\n",
       "    <tr>\n",
       "      <th>43</th>\n",
       "      <td>cjdvpiovw7mat016977illqge</td>\n",
       "      <td>https://firebasestorage.googleapis.com/v0/b/la...</td>\n",
       "      <td>Sloppy Trait</td>\n",
       "      <td>Happy Singh</td>\n",
       "      <td>personality Analysis</td>\n",
       "      <td>5.076</td>\n",
       "      <td>44L.jpg</td>\n",
       "    </tr>\n",
       "    <tr>\n",
       "      <th>44</th>\n",
       "      <td>cjdvpj6u7osy601943jw7xdbc</td>\n",
       "      <td>https://firebasestorage.googleapis.com/v0/b/la...</td>\n",
       "      <td>Extrovert Trait</td>\n",
       "      <td>Happy Singh</td>\n",
       "      <td>personality Analysis</td>\n",
       "      <td>21.402</td>\n",
       "      <td>45L.jpg</td>\n",
       "    </tr>\n",
       "  </tbody>\n",
       "</table>\n",
       "</div>"
      ],
      "text/plain": [
       "                           Id  \\\n",
       "0   cjdvp9kbs5jhr0198bgqfnhaj   \n",
       "1   cjdvp9ut17jhr01693k4nbus5   \n",
       "2   cjdvpa3pw4nfk0120c5iahx4h   \n",
       "3   cjdvpabrx7b4m0117sryd6n60   \n",
       "4   cjdvpaingoq9t0194bvdhbe8l   \n",
       "5   cjdvpapbijz7t0194zu51gupl   \n",
       "6   cjdvpawmzgmug0177ix4lzo65   \n",
       "7   cjdvpb2fsgmvt01772d66hn4s   \n",
       "8   cjdvpb8n04j3v0116xg2ar6x7   \n",
       "9   cjdvpbeio4nti0120tovhjtoz   \n",
       "10  cjdvpbl1m5k0z01989ipgbmx7   \n",
       "11  cjdvpbq7c4nxo01201c8g5jkk   \n",
       "12  cjdvpbvfe7bjv0117z76kffte   \n",
       "13  cjdvpc1bgoqou0194380oyzpa   \n",
       "14  cjdvpc83o4o1v0120p3nc16fe   \n",
       "15  cjdvpckz04ead0184t3ir41xt   \n",
       "16  cjdvpcsl5gnhj0177qx3xu9q9   \n",
       "17  cjdvpd2s64eox0184c3bb0nku   \n",
       "18  cjdvpdhvuwst00170ag7gj68z   \n",
       "19  cjdvpdq0vk0gx0194gwqfwfgv   \n",
       "20  cjdvpdx7l4f3q018476h02qtg   \n",
       "21  cjdvpe4837l3m0169sdh7wb3j   \n",
       "22  cjdvpea7j4kbv0116d06itzdm   \n",
       "23  cjdvpezn24fb50184ldbw4qf5   \n",
       "24  cjdvpf4w47cvx0117199g1v2d   \n",
       "25  cjdvpfamp4km901166ikhz7du   \n",
       "26  cjdvpffmywt9u0170p2nivybr   \n",
       "27  cjdvpfl0zwtbh0170d7nwwahy   \n",
       "28  cjdvpfq8w4kpg01165gzsxjve   \n",
       "29  cjdvpfxh3gokd01779pyolqjf   \n",
       "30  cjdvpg3a1gom4017772ln47x5   \n",
       "31  cjdvpge1f4iq00192gb4rloju   \n",
       "32  cjdvpgnn1osbc0194m6pirn9b   \n",
       "33  cjdvpgyov4ixy0192cegt1hfx   \n",
       "34  cjdvph9jv4l500116jbqw01d5   \n",
       "35  cjdvphe8t4puu0120yrtv0ct0   \n",
       "36  cjdvphj8s4l8n0116znqt58ep   \n",
       "37  cjdvphruu6k400193c7a3h9w6   \n",
       "38  cjdvphy5t4q2j0120fpt2zdu6   \n",
       "39  cjdvpi3m64led01162z98scbs   \n",
       "40  cjdvpi90hosqo0194i0l7noc3   \n",
       "41  cjdvpiec35m7b01985fn7f6h8   \n",
       "42  cjdvpijjf7dr70117ffq3k5ud   \n",
       "43  cjdvpiovw7mat016977illqge   \n",
       "44  cjdvpj6u7osy601943jw7xdbc   \n",
       "\n",
       "                                                Image             Label  \\\n",
       "0   https://firebasestorage.googleapis.com/v0/b/la...   Energetic Trait   \n",
       "1   https://firebasestorage.googleapis.com/v0/b/la...   Energetic Trait   \n",
       "2   https://firebasestorage.googleapis.com/v0/b/la...   Energetic Trait   \n",
       "3   https://firebasestorage.googleapis.com/v0/b/la...   Energetic Trait   \n",
       "4   https://firebasestorage.googleapis.com/v0/b/la...   Energetic Trait   \n",
       "5   https://firebasestorage.googleapis.com/v0/b/la...   Energetic Trait   \n",
       "6   https://firebasestorage.googleapis.com/v0/b/la...   Energetic Trait   \n",
       "7   https://firebasestorage.googleapis.com/v0/b/la...   Energetic Trait   \n",
       "8   https://firebasestorage.googleapis.com/v0/b/la...   Energetic Trait   \n",
       "9   https://firebasestorage.googleapis.com/v0/b/la...   Energetic Trait   \n",
       "10  https://firebasestorage.googleapis.com/v0/b/la...   Extrovert Trait   \n",
       "11  https://firebasestorage.googleapis.com/v0/b/la...   Extrovert Trait   \n",
       "12  https://firebasestorage.googleapis.com/v0/b/la...   Extrovert Trait   \n",
       "13  https://firebasestorage.googleapis.com/v0/b/la...   Extrovert Trait   \n",
       "14  https://firebasestorage.googleapis.com/v0/b/la...   Extrovert Trait   \n",
       "15  https://firebasestorage.googleapis.com/v0/b/la...   Extrovert Trait   \n",
       "16  https://firebasestorage.googleapis.com/v0/b/la...   Extrovert Trait   \n",
       "17  https://firebasestorage.googleapis.com/v0/b/la...   Extrovert Trait   \n",
       "18  https://firebasestorage.googleapis.com/v0/b/la...   Extrovert Trait   \n",
       "19  https://firebasestorage.googleapis.com/v0/b/la...      Sloppy Trait   \n",
       "20  https://firebasestorage.googleapis.com/v0/b/la...   Extrovert Trait   \n",
       "21  https://firebasestorage.googleapis.com/v0/b/la...   Extrovert Trait   \n",
       "22  https://firebasestorage.googleapis.com/v0/b/la...   Introvert Trait   \n",
       "23  https://firebasestorage.googleapis.com/v0/b/la...   Introvert Trait   \n",
       "24  https://firebasestorage.googleapis.com/v0/b/la...   Introvert Trait   \n",
       "25  https://firebasestorage.googleapis.com/v0/b/la...  Optimistic Trait   \n",
       "26  https://firebasestorage.googleapis.com/v0/b/la...  Optimistic Trait   \n",
       "27  https://firebasestorage.googleapis.com/v0/b/la...   Introvert Trait   \n",
       "28  https://firebasestorage.googleapis.com/v0/b/la...   Introvert Trait   \n",
       "29  https://firebasestorage.googleapis.com/v0/b/la...   Introvert Trait   \n",
       "30  https://firebasestorage.googleapis.com/v0/b/la...      Sloppy Trait   \n",
       "31  https://firebasestorage.googleapis.com/v0/b/la...      Sloppy Trait   \n",
       "32  https://firebasestorage.googleapis.com/v0/b/la...   Introvert Trait   \n",
       "33  https://firebasestorage.googleapis.com/v0/b/la...      Sloppy Trait   \n",
       "34  https://firebasestorage.googleapis.com/v0/b/la...  Optimistic Trait   \n",
       "35  https://firebasestorage.googleapis.com/v0/b/la...  Optimistic Trait   \n",
       "36  https://firebasestorage.googleapis.com/v0/b/la...  Optimistic Trait   \n",
       "37  https://firebasestorage.googleapis.com/v0/b/la...  Optimistic Trait   \n",
       "38  https://firebasestorage.googleapis.com/v0/b/la...  Optimistic Trait   \n",
       "39  https://firebasestorage.googleapis.com/v0/b/la...      Sloppy Trait   \n",
       "40  https://firebasestorage.googleapis.com/v0/b/la...      Sloppy Trait   \n",
       "41  https://firebasestorage.googleapis.com/v0/b/la...      Sloppy Trait   \n",
       "42  https://firebasestorage.googleapis.com/v0/b/la...      Sloppy Trait   \n",
       "43  https://firebasestorage.googleapis.com/v0/b/la...      Sloppy Trait   \n",
       "44  https://firebasestorage.googleapis.com/v0/b/la...   Extrovert Trait   \n",
       "\n",
       "        creater          project_name    time File_Name  \n",
       "0   Happy Singh  personality Analysis  28.388   1en.jpg  \n",
       "1   Happy Singh  personality Analysis  11.163   2en.jpg  \n",
       "2   Happy Singh  personality Analysis   8.871   3en.jpg  \n",
       "3   Happy Singh  personality Analysis   8.489   4en.jpg  \n",
       "4   Happy Singh  personality Analysis   6.141   5en.jpg  \n",
       "5   Happy Singh  personality Analysis   6.798   6en.jpg  \n",
       "6   Happy Singh  personality Analysis   5.587   7en.jpg  \n",
       "7   Happy Singh  personality Analysis   5.668   8en.jpg  \n",
       "8   Happy Singh  personality Analysis   6.228   9en.jpg  \n",
       "9   Happy Singh  personality Analysis   5.780  10en.jpg  \n",
       "10  Happy Singh  personality Analysis   6.267  11ex.jpg  \n",
       "11  Happy Singh  personality Analysis   4.780  12ex.jpg  \n",
       "12  Happy Singh  personality Analysis   5.003  13ex.jpg  \n",
       "13  Happy Singh  personality Analysis   6.083  14ex.jpg  \n",
       "14  Happy Singh  personality Analysis   7.237  15ex.jpg  \n",
       "15  Happy Singh  personality Analysis  14.276  16ex.jpg  \n",
       "16  Happy Singh  personality Analysis   7.575  17ex.jpg  \n",
       "17  Happy Singh  personality Analysis   9.847  18ex.jpg  \n",
       "18  Happy Singh  personality Analysis  17.604  19ex.jpg  \n",
       "19  Happy Singh  personality Analysis   8.794   19L.jpg  \n",
       "20  Happy Singh  personality Analysis   7.354  21ex.jpg  \n",
       "21  Happy Singh  personality Analysis   7.528  22ex.jpg  \n",
       "22  Happy Singh  personality Analysis   5.851  23In.jpg  \n",
       "23  Happy Singh  personality Analysis  30.881  24IN.jpg  \n",
       "24  Happy Singh  personality Analysis   5.154  25Op.jpg  \n",
       "25  Happy Singh  personality Analysis   5.748  26Op.jpg  \n",
       "26  Happy Singh  personality Analysis   4.878  27In.jpg  \n",
       "27  Happy Singh  personality Analysis   5.475  28In.jpg  \n",
       "28  Happy Singh  personality Analysis   4.517  29In.jpg  \n",
       "29  Happy Singh  personality Analysis   7.151   30L.jpg  \n",
       "30  Happy Singh  personality Analysis   5.456  31In.jpg  \n",
       "31  Happy Singh  personality Analysis  12.028  32In.jpg  \n",
       "32  Happy Singh  personality Analysis  10.695  33In.jpg  \n",
       "33  Happy Singh  personality Analysis  12.513  34In.jpg  \n",
       "34  Happy Singh  personality Analysis  12.229  35Op.jpg  \n",
       "35  Happy Singh  personality Analysis   4.252  36Op.jpg  \n",
       "36  Happy Singh  personality Analysis   4.572  37Op.jpg  \n",
       "37  Happy Singh  personality Analysis   8.841  38Op.jpg  \n",
       "38  Happy Singh  personality Analysis   6.279  39Op.jpg  \n",
       "39  Happy Singh  personality Analysis   5.444   40L.jpg  \n",
       "40  Happy Singh  personality Analysis   5.396   41L.jpg  \n",
       "41  Happy Singh  personality Analysis   5.328   42L.jpg  \n",
       "42  Happy Singh  personality Analysis   4.969   43L.jpg  \n",
       "43  Happy Singh  personality Analysis   5.076   44L.jpg  \n",
       "44  Happy Singh  personality Analysis  21.402   45L.jpg  "
      ]
     },
     "execution_count": 15,
     "metadata": {},
     "output_type": "execute_result"
    }
   ],
   "source": [
    "df"
   ]
  },
  {
   "cell_type": "code",
   "execution_count": 12,
   "metadata": {},
   "outputs": [],
   "source": [
    "length=len(df.Image)"
   ]
  },
  {
   "cell_type": "code",
   "execution_count": 13,
   "metadata": {},
   "outputs": [],
   "source": [
    "filelist=[]\n",
    "myfile=glob.glob('/home/raj/Downloads/personality/*.jpg')"
   ]
  },
  {
   "cell_type": "code",
   "execution_count": null,
   "metadata": {},
   "outputs": [],
   "source": []
  },
  {
   "cell_type": "code",
   "execution_count": 14,
   "metadata": {},
   "outputs": [],
   "source": [
    "for i in myfile:\n",
    "    \n",
    "    imageL=cv2.imread(i,cv2.IMREAD_GRAYSCALE)\n",
    "    image=cv2.resize(imageL,(200,50),interpolation=cv2.INTER_AREA)\n",
    "    \n",
    "    filelist.append(image)\n",
    "    "
   ]
  },
  {
   "cell_type": "code",
   "execution_count": null,
   "metadata": {},
   "outputs": [],
   "source": []
  },
  {
   "cell_type": "code",
   "execution_count": 15,
   "metadata": {},
   "outputs": [],
   "source": [
    "label=np.array(df.Label)"
   ]
  },
  {
   "cell_type": "code",
   "execution_count": 16,
   "metadata": {},
   "outputs": [
    {
     "data": {
      "text/plain": [
       "array(['Energetic Trait', 'Energetic Trait', 'Energetic Trait',\n",
       "       'Energetic Trait', 'Energetic Trait', 'Energetic Trait',\n",
       "       'Energetic Trait', 'Energetic Trait', 'Energetic Trait',\n",
       "       'Energetic Trait', 'Extrovert Trait', 'Extrovert Trait',\n",
       "       'Extrovert Trait', 'Extrovert Trait', 'Extrovert Trait',\n",
       "       'Extrovert Trait', 'Extrovert Trait', 'Extrovert Trait',\n",
       "       'Extrovert Trait', 'Sloppy Trait', 'Extrovert Trait',\n",
       "       'Extrovert Trait', 'Introvert Trait', 'Introvert Trait',\n",
       "       'Introvert Trait', 'Optimistic Trait', 'Optimistic Trait',\n",
       "       'Introvert Trait', 'Introvert Trait', 'Introvert Trait',\n",
       "       'Sloppy Trait', 'Sloppy Trait', 'Introvert Trait', 'Sloppy Trait',\n",
       "       'Optimistic Trait', 'Optimistic Trait', 'Optimistic Trait',\n",
       "       'Optimistic Trait', 'Optimistic Trait', 'Sloppy Trait',\n",
       "       'Sloppy Trait', 'Sloppy Trait', 'Sloppy Trait', 'Sloppy Trait',\n",
       "       'Extrovert Trait'], dtype=object)"
      ]
     },
     "execution_count": 16,
     "metadata": {},
     "output_type": "execute_result"
    }
   ],
   "source": [
    "label"
   ]
  },
  {
   "cell_type": "code",
   "execution_count": 17,
   "metadata": {},
   "outputs": [],
   "source": [
    "ImageFeatures=np.array(filelist,'float64')"
   ]
  },
  {
   "cell_type": "code",
   "execution_count": 18,
   "metadata": {},
   "outputs": [
    {
     "data": {
      "text/plain": [
       "3"
      ]
     },
     "execution_count": 18,
     "metadata": {},
     "output_type": "execute_result"
    }
   ],
   "source": [
    "ImageFeatures.ndim"
   ]
  },
  {
   "cell_type": "code",
   "execution_count": 19,
   "metadata": {},
   "outputs": [
    {
     "data": {
      "text/plain": [
       "(45, 50, 200)"
      ]
     },
     "execution_count": 19,
     "metadata": {},
     "output_type": "execute_result"
    }
   ],
   "source": [
    "ImageFeatures.shape"
   ]
  },
  {
   "cell_type": "code",
   "execution_count": 20,
   "metadata": {},
   "outputs": [
    {
     "data": {
      "text/plain": [
       "array([[[ 111.,  110.,  109., ...,   92.,   93.,   93.],\n",
       "        [ 110.,  112.,  111., ...,   92.,   94.,   94.],\n",
       "        [ 109.,  111.,  111., ...,   93.,   93.,   94.],\n",
       "        ..., \n",
       "        [ 111.,  108.,  107., ...,   93.,   92.,   92.],\n",
       "        [ 112.,  109.,  108., ...,   92.,   91.,   92.],\n",
       "        [ 112.,  110.,  107., ...,   92.,   92.,   90.]],\n",
       "\n",
       "       [[  95.,   96.,   96., ...,   90.,   90.,   89.],\n",
       "        [  98.,   97.,   98., ...,   89.,   90.,   88.],\n",
       "        [  98.,   98.,   97., ...,   89.,   90.,   88.],\n",
       "        ..., \n",
       "        [  96.,   95.,   95., ...,   74.,   74.,   73.],\n",
       "        [  95.,   95.,   94., ...,   77.,   74.,   74.],\n",
       "        [  96.,   93.,   93., ...,   73.,   72.,   73.]],\n",
       "\n",
       "       [[  90.,   91.,   92., ...,   79.,   80.,   79.],\n",
       "        [  91.,   91.,   90., ...,   81.,   79.,   78.],\n",
       "        [  90.,   92.,   89., ...,   82.,   80.,   79.],\n",
       "        ..., \n",
       "        [  93.,   93.,   92., ...,   85.,   84.,   85.],\n",
       "        [  93.,   93.,   93., ...,   84.,   85.,   86.],\n",
       "        [  93.,   94.,   95., ...,   85.,   85.,   86.]],\n",
       "\n",
       "       ..., \n",
       "       [[  98.,   99.,   97., ...,   89.,   89.,   88.],\n",
       "        [  97.,   99.,  100., ...,   89.,   89.,   89.],\n",
       "        [  96.,   99.,   90., ...,   90.,   91.,   89.],\n",
       "        ..., \n",
       "        [  99.,  101.,   99., ...,   91.,   92.,   91.],\n",
       "        [  97.,  102.,   99., ...,   92.,   91.,   90.],\n",
       "        [  98.,  101.,  100., ...,   93.,   92.,   91.]],\n",
       "\n",
       "       [[ 109.,  112.,  111., ...,   98.,   97.,  100.],\n",
       "        [ 110.,  111.,  111., ...,   98.,   97.,   99.],\n",
       "        [ 112.,  112.,  112., ...,   98.,   96.,   99.],\n",
       "        ..., \n",
       "        [ 112.,  112.,  110., ...,  102.,  102.,   99.],\n",
       "        [ 111.,  111.,  110., ...,  102.,  101.,   99.],\n",
       "        [ 109.,  112.,  110., ...,  101.,  101.,   99.]],\n",
       "\n",
       "       [[  94.,   93.,   94., ...,   81.,   81.,   83.],\n",
       "        [  93.,   92.,   94., ...,   84.,   81.,   82.],\n",
       "        [  92.,   92.,   93., ...,   83.,   83.,   82.],\n",
       "        ..., \n",
       "        [  97.,   98.,   99., ...,   89.,   88.,   88.],\n",
       "        [  97.,   97.,   99., ...,   89.,   88.,   88.],\n",
       "        [  96.,   97.,   98., ...,   89.,   89.,   87.]]])"
      ]
     },
     "execution_count": 20,
     "metadata": {},
     "output_type": "execute_result"
    }
   ],
   "source": [
    "ImageFeatures"
   ]
  },
  {
   "cell_type": "code",
   "execution_count": 21,
   "metadata": {},
   "outputs": [],
   "source": [
    "num_pixel=ImageFeatures.shape[1]*ImageFeatures.shape[2]"
   ]
  },
  {
   "cell_type": "code",
   "execution_count": 22,
   "metadata": {},
   "outputs": [],
   "source": [
    "ImageFeatures=ImageFeatures.reshape(ImageFeatures.shape[0],num_pixel).astype('float64')"
   ]
  },
  {
   "cell_type": "code",
   "execution_count": 23,
   "metadata": {},
   "outputs": [
    {
     "data": {
      "text/plain": [
       "array([[ 111.,  110.,  109., ...,   92.,   92.,   90.],\n",
       "       [  95.,   96.,   96., ...,   73.,   72.,   73.],\n",
       "       [  90.,   91.,   92., ...,   85.,   85.,   86.],\n",
       "       ..., \n",
       "       [  98.,   99.,   97., ...,   93.,   92.,   91.],\n",
       "       [ 109.,  112.,  111., ...,  101.,  101.,   99.],\n",
       "       [  94.,   93.,   94., ...,   89.,   89.,   87.]])"
      ]
     },
     "execution_count": 23,
     "metadata": {},
     "output_type": "execute_result"
    }
   ],
   "source": [
    "ImageFeatures"
   ]
  },
  {
   "cell_type": "code",
   "execution_count": 24,
   "metadata": {},
   "outputs": [],
   "source": [
    "ImageFeatures=ImageFeatures/255.0"
   ]
  },
  {
   "cell_type": "code",
   "execution_count": 25,
   "metadata": {},
   "outputs": [
    {
     "data": {
      "text/plain": [
       "2"
      ]
     },
     "execution_count": 25,
     "metadata": {},
     "output_type": "execute_result"
    }
   ],
   "source": [
    "ImageFeatures.ndim"
   ]
  },
  {
   "cell_type": "code",
   "execution_count": 26,
   "metadata": {},
   "outputs": [
    {
     "data": {
      "text/plain": [
       "(45, 10000)"
      ]
     },
     "execution_count": 26,
     "metadata": {},
     "output_type": "execute_result"
    }
   ],
   "source": [
    "ImageFeatures.shape"
   ]
  },
  {
   "cell_type": "code",
   "execution_count": null,
   "metadata": {},
   "outputs": [],
   "source": []
  },
  {
   "cell_type": "code",
   "execution_count": 27,
   "metadata": {},
   "outputs": [
    {
     "data": {
      "text/plain": [
       "array([[ 0.43529412,  0.43137255,  0.42745098, ...,  0.36078431,\n",
       "         0.36078431,  0.35294118],\n",
       "       [ 0.37254902,  0.37647059,  0.37647059, ...,  0.28627451,\n",
       "         0.28235294,  0.28627451],\n",
       "       [ 0.35294118,  0.35686275,  0.36078431, ...,  0.33333333,\n",
       "         0.33333333,  0.3372549 ],\n",
       "       ..., \n",
       "       [ 0.38431373,  0.38823529,  0.38039216, ...,  0.36470588,\n",
       "         0.36078431,  0.35686275],\n",
       "       [ 0.42745098,  0.43921569,  0.43529412, ...,  0.39607843,\n",
       "         0.39607843,  0.38823529],\n",
       "       [ 0.36862745,  0.36470588,  0.36862745, ...,  0.34901961,\n",
       "         0.34901961,  0.34117647]])"
      ]
     },
     "execution_count": 27,
     "metadata": {},
     "output_type": "execute_result"
    }
   ],
   "source": [
    "ImageFeatures"
   ]
  },
  {
   "cell_type": "code",
   "execution_count": 28,
   "metadata": {},
   "outputs": [],
   "source": [
    "X_train, X_test, y_train, y_test = model_selection.train_test_split(ImageFeatures,label,test_size=0.1)"
   ]
  },
  {
   "cell_type": "code",
   "execution_count": 29,
   "metadata": {},
   "outputs": [
    {
     "name": "stderr",
     "output_type": "stream",
     "text": [
      "/usr/local/lib/python2.7/dist-packages/skimage/feature/_hog.py:119: skimage_deprecation: Default value of `block_norm`==`L1` is deprecated and will be changed to `L2-Hys` in v0.15\n",
      "  'be changed to `L2-Hys` in v0.15', skimage_deprecation)\n"
     ]
    }
   ],
   "source": [
    "list_hog_fd = []\n",
    "for feature in X_train:\n",
    "    fd = hog(feature.reshape((200, 50)), orientations=9, pixels_per_cell=(14, 14), cells_per_block=(1, 1), visualise=False)\n",
    "    list_hog_fd.append(fd)\n",
    "hog_features = np.array(list_hog_fd, 'float64')"
   ]
  },
  {
   "cell_type": "code",
   "execution_count": 30,
   "metadata": {},
   "outputs": [],
   "source": [
    "pp = preprocessing.StandardScaler().fit(hog_features)\n",
    "hog_features = pp.transform(hog_features)"
   ]
  },
  {
   "cell_type": "code",
   "execution_count": 31,
   "metadata": {},
   "outputs": [
    {
     "data": {
      "text/plain": [
       "SVC(C=1.0, cache_size=200, class_weight=None, coef0=0.0,\n",
       "  decision_function_shape='ovr', degree=3, gamma=0.1, kernel='poly',\n",
       "  max_iter=-1, probability=False, random_state=None, shrinking=True,\n",
       "  tol=0.001, verbose=False)"
      ]
     },
     "execution_count": 31,
     "metadata": {},
     "output_type": "execute_result"
    }
   ],
   "source": [
    "#clf = LinearSVC()\n",
    "clf = svm.SVC(gamma=0.1, kernel='poly')\n",
    "# Perform the training\n",
    "clf.fit(hog_features,y_train)"
   ]
  },
  {
   "cell_type": "code",
   "execution_count": 32,
   "metadata": {},
   "outputs": [
    {
     "data": {
      "text/plain": [
       "['characters_cls.pkl']"
      ]
     },
     "execution_count": 32,
     "metadata": {},
     "output_type": "execute_result"
    }
   ],
   "source": [
    "joblib.dump((clf, pp), \"characters_cls.pkl\", compress=3)"
   ]
  },
  {
   "cell_type": "code",
   "execution_count": 33,
   "metadata": {},
   "outputs": [],
   "source": [
    "list_hog_fd2 = []\n",
    "for feature in X_test:\n",
    "    fd = hog(feature.reshape((200, 50)), orientations=9, pixels_per_cell=(14, 14), cells_per_block=(1, 1), visualise=False)\n",
    "    list_hog_fd2.append(fd)\n",
    "hog_features2 = np.array(list_hog_fd2, 'float64')"
   ]
  },
  {
   "cell_type": "code",
   "execution_count": 34,
   "metadata": {},
   "outputs": [],
   "source": [
    "pp = preprocessing.StandardScaler().fit(hog_features2)\n",
    "hog_features2 = pp.transform(hog_features2)"
   ]
  },
  {
   "cell_type": "code",
   "execution_count": 35,
   "metadata": {},
   "outputs": [],
   "source": [
    "#Calculating accuracy of the trained classifier\n",
    "testclassifier=clf.score(hog_features2,y_test)\n"
   ]
  },
  {
   "cell_type": "code",
   "execution_count": 36,
   "metadata": {},
   "outputs": [],
   "source": [
    "predictclassifier=clf.predict(hog_features2)"
   ]
  },
  {
   "cell_type": "code",
   "execution_count": 37,
   "metadata": {},
   "outputs": [],
   "source": [
    "accuracy=accuracy_score(y_test,predictclassifier)"
   ]
  },
  {
   "cell_type": "code",
   "execution_count": 38,
   "metadata": {},
   "outputs": [
    {
     "data": {
      "text/plain": [
       "0.20000000000000001"
      ]
     },
     "execution_count": 38,
     "metadata": {},
     "output_type": "execute_result"
    }
   ],
   "source": [
    "accuracy"
   ]
  },
  {
   "cell_type": "code",
   "execution_count": 39,
   "metadata": {},
   "outputs": [
    {
     "data": {
      "text/plain": [
       "0.20000000000000001"
      ]
     },
     "execution_count": 39,
     "metadata": {},
     "output_type": "execute_result"
    }
   ],
   "source": [
    "testclassifier"
   ]
  },
  {
   "cell_type": "code",
   "execution_count": 40,
   "metadata": {},
   "outputs": [
    {
     "data": {
      "text/plain": [
       "array(['Extrovert Trait', 'Extrovert Trait', 'Extrovert Trait',\n",
       "       'Extrovert Trait', 'Extrovert Trait'], dtype=object)"
      ]
     },
     "execution_count": 40,
     "metadata": {},
     "output_type": "execute_result"
    }
   ],
   "source": [
    "predictclassifier"
   ]
  },
  {
   "cell_type": "code",
   "execution_count": 41,
   "metadata": {},
   "outputs": [],
   "source": [
    "conf_mat = confusion_matrix(y_test,predictclassifier)"
   ]
  },
  {
   "cell_type": "code",
   "execution_count": 42,
   "metadata": {},
   "outputs": [
    {
     "data": {
      "text/plain": [
       "array([[0, 1, 0, 0, 0],\n",
       "       [0, 1, 0, 0, 0],\n",
       "       [0, 1, 0, 0, 0],\n",
       "       [0, 1, 0, 0, 0],\n",
       "       [0, 1, 0, 0, 0]])"
      ]
     },
     "execution_count": 42,
     "metadata": {},
     "output_type": "execute_result"
    }
   ],
   "source": [
    "conf_mat"
   ]
  },
  {
   "cell_type": "code",
   "execution_count": 43,
   "metadata": {},
   "outputs": [
    {
     "data": {
      "image/png": "[encoded data removed]",
      "text/plain": [
       "<matplotlib.figure.Figure at 0x7f97e1c072d0>"
      ]
     },
     "metadata": {},
     "output_type": "display_data"
    }
   ],
   "source": [
    "# Plot Confusion Matrix Data as a Matrix\n",
    "plt.matshow(conf_mat)\n",
    "plt.title('Confusion Matrix for Validation Data')\n",
    "plt.colorbar()\n",
    "plt.ylabel('True label')\n",
    "plt.xlabel('Predicted label')\n",
    "plt.show()"
   ]
  },
  {
   "cell_type": "code",
   "execution_count": 44,
   "metadata": {},
   "outputs": [],
   "source": [
    "# Read the input image \n",
    "photo=\"ANKIT.jpeg\"\n",
    "im = cv2.imread(photo)\n",
    "\n",
    "# Convert to grayscale and apply Gaussian filtering\n",
    "im = cv2.cvtColor(im, cv2.COLOR_BGR2GRAY)\n"
   ]
  },
  {
   "cell_type": "code",
   "execution_count": 45,
   "metadata": {},
   "outputs": [],
   "source": [
    "%matplotlib inline"
   ]
  },
  {
   "cell_type": "code",
   "execution_count": 46,
   "metadata": {},
   "outputs": [
    {
     "data": {
      "text/plain": [
       "<matplotlib.image.AxesImage at 0x7f97e0c88c10>"
      ]
     },
     "execution_count": 46,
     "metadata": {},
     "output_type": "execute_result"
    },
    {
     "data": {
      "image/png": "[encoded data removed]",
      "text/plain": [
       "<matplotlib.figure.Figure at 0x7f97e0d1f410>"
      ]
     },
     "metadata": {},
     "output_type": "display_data"
    }
   ],
   "source": [
    "plt.imshow(im, interpolation='nearest',cmap='gray')"
   ]
  },
  {
   "cell_type": "code",
   "execution_count": 47,
   "metadata": {},
   "outputs": [],
   "source": [
    "im = cv2.GaussianBlur(im, (5, 5), 0)"
   ]
  },
  {
   "cell_type": "code",
   "execution_count": 48,
   "metadata": {},
   "outputs": [
    {
     "data": {
      "text/plain": [
       "<matplotlib.image.AxesImage at 0x7f97e0b5ad50>"
      ]
     },
     "execution_count": 48,
     "metadata": {},
     "output_type": "execute_result"
    },
    {
     "data": {
      "image/png": "[encoded data removed]",
      "text/plain": [
       "<matplotlib.figure.Figure at 0x7f97e0c21550>"
      ]
     },
     "metadata": {},
     "output_type": "display_data"
    }
   ],
   "source": [
    "plt.imshow(im)"
   ]
  },
  {
   "cell_type": "code",
   "execution_count": 49,
   "metadata": {},
   "outputs": [],
   "source": [
    "# Threshold the image\n",
    "#ret,im_th = cv2.threshold(im, 15, 255, 0)\n",
    "#ret,im_th = cv2.threshold(im, 40, 255, 0)"
   ]
  },
  {
   "cell_type": "code",
   "execution_count": 50,
   "metadata": {},
   "outputs": [],
   "source": [
    "im_th = cv2.adaptiveThreshold(im, 255, cv2.ADAPTIVE_THRESH_GAUSSIAN_C, cv2.THRESH_BINARY, 115, 1)"
   ]
  },
  {
   "cell_type": "code",
   "execution_count": 51,
   "metadata": {},
   "outputs": [
    {
     "data": {
      "text/plain": [
       "<matplotlib.image.AxesImage at 0x7f97e0ad9a90>"
      ]
     },
     "execution_count": 51,
     "metadata": {},
     "output_type": "execute_result"
    },
    {
     "data": {
      "image/png": "[encoded data removed]",
      "text/plain": [
       "<matplotlib.figure.Figure at 0x7f97e0b81bd0>"
      ]
     },
     "metadata": {},
     "output_type": "display_data"
    }
   ],
   "source": [
    "plt.imshow(im_th,interpolation='nearest',cmap='gray')"
   ]
  },
  {
   "cell_type": "code",
   "execution_count": 52,
   "metadata": {},
   "outputs": [],
   "source": [
    "\n",
    "# Find contours in the image\n",
    "im2,ctrs, _ = cv2.findContours(im_th, 1, 2)\n",
    "\n",
    "listctr=[]"
   ]
  },
  {
   "cell_type": "code",
   "execution_count": 53,
   "metadata": {},
   "outputs": [
    {
     "data": {
      "text/plain": [
       "67"
      ]
     },
     "execution_count": 53,
     "metadata": {},
     "output_type": "execute_result"
    }
   ],
   "source": [
    "len(ctrs)"
   ]
  },
  {
   "cell_type": "code",
   "execution_count": 54,
   "metadata": {},
   "outputs": [],
   "source": [
    "for crt in ctrs:\n",
    "    listctr.append(len(crt))"
   ]
  },
  {
   "cell_type": "code",
   "execution_count": 55,
   "metadata": {},
   "outputs": [],
   "source": [
    "dictlist={}"
   ]
  },
  {
   "cell_type": "code",
   "execution_count": 56,
   "metadata": {},
   "outputs": [],
   "source": [
    "for i in listctr:\n",
    "    if i>600:\n",
    "        dictlist.setdefault(i,listctr.index(i))"
   ]
  },
  {
   "cell_type": "code",
   "execution_count": 57,
   "metadata": {},
   "outputs": [
    {
     "data": {
      "text/plain": [
       "{1021: 22}"
      ]
     },
     "execution_count": 57,
     "metadata": {},
     "output_type": "execute_result"
    }
   ],
   "source": [
    "dictlist"
   ]
  },
  {
   "cell_type": "code",
   "execution_count": 58,
   "metadata": {},
   "outputs": [],
   "source": [
    "# Get rectangles contains each contour\n",
    "#rects = [cv2.boundingRect(ctr) for ctr in ctrs]\n",
    "for key,value in dictlist.iteritems():\n",
    "    a=dictlist[key]\n",
    "    rects=[cv2.boundingRect(ctrs[a])]"
   ]
  },
  {
   "cell_type": "code",
   "execution_count": 59,
   "metadata": {},
   "outputs": [
    {
     "data": {
      "text/plain": [
       "[(108, 294, 518, 64)]"
      ]
     },
     "execution_count": 59,
     "metadata": {},
     "output_type": "execute_result"
    }
   ],
   "source": [
    "rects"
   ]
  },
  {
   "cell_type": "markdown",
   "metadata": {},
   "source": [
    "photo=\"ANKIT.png\"\n",
    "im = cv2.imread(photo)\n",
    "plt.imshow(im)"
   ]
  },
  {
   "cell_type": "markdown",
   "metadata": {},
   "source": [
    "print(rects[1])\n",
    "x,y, w_, h_ = rects[1]\n",
    "blah = im[y:y+h_, x:x+w_]\n",
    "plt.imshow(blah)"
   ]
  },
  {
   "cell_type": "code",
   "execution_count": 60,
   "metadata": {},
   "outputs": [],
   "source": [
    "for rect in rects:\n",
    "    # Draw the rectangles\n",
    "    cv2.rectangle(im, (rect[0], rect[1]), (rect[0] + rect[2], rect[1] + rect[3]), (0, 255, 0), 3) \n",
    "    # Make the rectangular region around the character line\n",
    "    leng = int(rect[3] * 1.6)\n",
    "    pt1 = int(rect[1] + rect[3] // 2 - leng // 2)\n",
    "    pt2 = int(rect[0] + rect[2] // 2 - leng // 2)\n",
    "    roi = im_th[pt1:pt1+leng, pt2:pt2+leng]\n",
    "    # Resize the image\n",
    "    roi = cv2.resize(roi, (200, 50), interpolation=cv2.INTER_AREA)\n",
    "    roi = cv2.dilate(roi, (3, 3))\n",
    "    # Calculate the HOG features\n",
    "    roi_hog_fd = hog(roi, orientations=9, pixels_per_cell=(14, 14), cells_per_block=(1, 1), visualise=False)\n",
    "    roi_hog_fd = pp.transform(np.array([roi_hog_fd],'float64'))\n",
    "    nbr = clf.predict(roi_hog_fd)\n",
    "    cv2.putText(im, str(str(nbr[0])), (rect[0],rect[1]),cv2.FONT_HERSHEY_DUPLEX, 1, (0, 0, 255), 1)\n"
   ]
  },
  {
   "cell_type": "code",
   "execution_count": 61,
   "metadata": {},
   "outputs": [
    {
     "data": {
      "text/plain": [
       "<matplotlib.colorbar.Colorbar at 0x7f97e0e600d0>"
      ]
     },
     "execution_count": 61,
     "metadata": {},
     "output_type": "execute_result"
    },
    {
     "data": {
      "image/png": "[encoded data removed]",
      "text/plain": [
       "<matplotlib.figure.Figure at 0x7f97e0a8cc50>"
      ]
     },
     "metadata": {},
     "output_type": "display_data"
    }
   ],
   "source": [
    "plt.imshow(im,cmap='hot')\n",
    "plt.colorbar()"
   ]
  },
  {
   "cell_type": "code",
   "execution_count": 62,
   "metadata": {},
   "outputs": [],
   "source": [
    "cv2.namedWindow(\"Resulting Image with Rectangular \", cv2.WINDOW_NORMAL)\n",
    "cv2.imshow(\"Resulting Image with Rectangular \", im)\n",
    "cv2.waitKey(0)\n",
    "cv2.destroyAllWindows()\n"
   ]
  },
  {
   "cell_type": "code",
   "execution_count": null,
   "metadata": {},
   "outputs": [],
   "source": []
  },
  {
   "cell_type": "code",
   "execution_count": null,
   "metadata": {},
   "outputs": [],
   "source": []
  },
  {
   "cell_type": "code",
   "execution_count": null,
   "metadata": {},
   "outputs": [],
   "source": []
  }
 ],
 "metadata": {
  "kernelspec": {
   "display_name": "python-3",
   "language": "python",
   "name": "python-3"
  },
  "language_info": {
   "codemirror_mode": {
    "name": "ipython",
    "version": 2
   },
   "file_extension": ".py",
   "mimetype": "text/x-python",
   "name": "python",
   "nbconvert_exporter": "python",
   "pygments_lexer": "ipython2",
   "version": "2.7.12"
  }
 },
 "nbformat": 4,
 "nbformat_minor": 2
}
